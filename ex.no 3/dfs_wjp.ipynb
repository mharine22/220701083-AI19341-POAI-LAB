{
  "nbformat": 4,
  "nbformat_minor": 0,
  "metadata": {
    "colab": {
      "provenance": []
    },
    "kernelspec": {
      "name": "python3",
      "display_name": "Python 3"
    },
    "language_info": {
      "name": "python"
    }
  },
  "cells": [
    {
      "cell_type": "code",
      "execution_count": null,
      "metadata": {
        "colab": {
          "base_uri": "https://localhost:8080/"
        },
        "id": "zGX63JlMi8tW",
        "outputId": "4eb30c65-9dd5-4acb-a3db-20667d91ac0e"
      },
      "outputs": [
        {
          "output_type": "stream",
          "name": "stdout",
          "text": [
            "Path from initial state to solution state ::\n",
            "( 0 , 0 )\n",
            "( 0 , 3 )\n",
            "( 4 , 0 )\n",
            "( 4 , 3 )\n",
            "( 3 , 0 )\n",
            "( 1 , 3 )\n",
            "( 3 , 3 )\n",
            "( 4 , 2 )\n",
            "( 0 , 2 )\n"
          ]
        }
      ],
      "source": [
        "from collections import deque\n",
        "\n",
        "def DFS(a, b, target):\n",
        "    m = {}\n",
        "    isSolvable = False\n",
        "    path = []\n",
        "    q = deque()\n",
        "    q.append((0, 0))\n",
        "\n",
        "    while len(q) > 0:\n",
        "        u = q.popleft()\n",
        "\n",
        "        # Ignore already visited states\n",
        "        if (u[0], u[1]) in m:\n",
        "            continue\n",
        "\n",
        "        # If the state is out of bounds, skip it\n",
        "        if u[0] > a or u[1] > b or u[0] < 0 or u[1] < 0:\n",
        "            continue\n",
        "\n",
        "        # Store the current state and mark it visited\n",
        "        path.append([u[0], u[1]])\n",
        "        m[(u[0], u[1])] = 1\n",
        "\n",
        "        # Check if we have reached the solution\n",
        "        if u[0] == target or u[1] == target:\n",
        "            isSolvable = True\n",
        "            if u[0] == target:\n",
        "                if u[1] != 0:\n",
        "                    path.append([u[0], 0])\n",
        "            else:\n",
        "                if u[0] != 0:\n",
        "                    path.append([0, u[1]])\n",
        "\n",
        "            # Print the solution path\n",
        "            sz = len(path)\n",
        "            for i in range(sz):\n",
        "                print(\"(\", path[i][0], \",\", path[i][1], \")\")\n",
        "            break\n",
        "\n",
        "        # Fill Jug2\n",
        "        q.append([u[0], b])\n",
        "        # Fill Jug1\n",
        "        q.append([a, u[1]])\n",
        "\n",
        "        # Transfer water from Jug2 to Jug1\n",
        "        for ap in range(max(a, b) + 1):\n",
        "            c = u[0] + ap\n",
        "            d = u[1] - ap\n",
        "\n",
        "            # If this state is valid, add to the queue\n",
        "            if c == a or (d == 0 and d >= 0):\n",
        "                q.append([c, d])\n",
        "\n",
        "            c = u[0] - ap\n",
        "            d = u[1] + ap\n",
        "\n",
        "            # If this state is valid, add to the queue\n",
        "            if (c == 0 and c >= 0) or d == b:\n",
        "                q.append([c, d])\n",
        "\n",
        "        # Empty Jug1\n",
        "        q.append([a, 0])\n",
        "        # Empty Jug2\n",
        "        q.append([0, b])\n",
        "\n",
        "    if not isSolvable:\n",
        "        print(\"No solution\")\n",
        "\n",
        "# Example usage\n",
        "Jug1, Jug2, target = 4, 3, 2\n",
        "print(\"Path from initial state to solution state ::\")\n",
        "DFS(Jug1, Jug2, target)\n"
      ]
    }
  ]
}