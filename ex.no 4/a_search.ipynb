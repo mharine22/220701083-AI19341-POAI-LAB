{
  "nbformat": 4,
  "nbformat_minor": 0,
  "metadata": {
    "colab": {
      "provenance": []
    },
    "kernelspec": {
      "name": "python3",
      "display_name": "Python 3"
    },
    "language_info": {
      "name": "python"
    }
  },
  "cells": [
    {
      "cell_type": "code",
      "execution_count": null,
      "metadata": {
        "colab": {
          "base_uri": "https://localhost:8080/"
        },
        "id": "sw_hj_ftnwpe",
        "outputId": "ed714c85-4776-4885-db8c-0967d1bbdc54"
      },
      "outputs": [
        {
          "output_type": "stream",
          "name": "stdout",
          "text": [
            "Path found: ['A', 'B', 'D']\n"
          ]
        },
        {
          "output_type": "execute_result",
          "data": {
            "text/plain": [
              "['A', 'B', 'D']"
            ]
          },
          "metadata": {},
          "execution_count": 1
        }
      ],
      "source": [
        "from collections import deque\n",
        "\n",
        "class Graph:\n",
        "    def __init__(self, adjac_lis):\n",
        "        self.adjac_lis = adjac_lis\n",
        "\n",
        "    def get_neighbors(self, v):\n",
        "        return self.adjac_lis[v]\n",
        "\n",
        "    def h(self, n):\n",
        "        # Heuristic values for nodes\n",
        "        H = {\n",
        "            'A': 1,\n",
        "            'B': 1,\n",
        "            'C': 1,\n",
        "            'D': 1\n",
        "        }\n",
        "        return H[n]\n",
        "\n",
        "    def a_star_algorithm(self, start, stop):\n",
        "        # Open list to track nodes to be evaluated\n",
        "        open_lst = set([start])\n",
        "        # Closed list to track nodes already evaluated\n",
        "        closed_lst = set([])\n",
        "\n",
        "        # Dictionary to store the cost of the path from start to the node\n",
        "        poo = {}\n",
        "        poo[start] = 0\n",
        "\n",
        "        # Dictionary to store the parent of each node\n",
        "        par = {}\n",
        "        par[start] = start\n",
        "\n",
        "        while len(open_lst) > 0:\n",
        "            n = None\n",
        "\n",
        "            # Find the node with the lowest cost\n",
        "            for v in open_lst:\n",
        "                if n is None or poo[v] + self.h(v) < poo[n] + self.h(n):\n",
        "                    n = v\n",
        "\n",
        "            if n is None:\n",
        "                print('Path does not exist!')\n",
        "                return None\n",
        "\n",
        "            # If the destination node is found, reconstruct the path\n",
        "            if n == stop:\n",
        "                reconst_path = []\n",
        "\n",
        "                while par[n] != n:\n",
        "                    reconst_path.append(n)\n",
        "                    n = par[n]\n",
        "\n",
        "                reconst_path.append(start)\n",
        "                reconst_path.reverse()\n",
        "\n",
        "                print('Path found: {}'.format(reconst_path))\n",
        "                return reconst_path\n",
        "\n",
        "            # For each neighbor of the current node\n",
        "            for (m, weight) in self.get_neighbors(n):\n",
        "                # If the current node is not present in both open_lst and closed_lst\n",
        "                if m not in open_lst and m not in closed_lst:\n",
        "                    open_lst.add(m)\n",
        "                    par[m] = n\n",
        "                    poo[m] = poo[n] + weight\n",
        "                else:\n",
        "                    # If it's cheaper to get to this node through the current node\n",
        "                    if poo[m] > poo[n] + weight:\n",
        "                        poo[m] = poo[n] + weight\n",
        "                        par[m] = n\n",
        "\n",
        "                        # If the node was in the closed list, move it to the open list\n",
        "                        if m in closed_lst:\n",
        "                            closed_lst.remove(m)\n",
        "                            open_lst.add(m)\n",
        "\n",
        "            # Move the current node from open to closed list\n",
        "            open_lst.remove(n)\n",
        "            closed_lst.add(n)\n",
        "\n",
        "        print('Path does not exist!')\n",
        "        return None\n",
        "\n",
        "# Example usage\n",
        "adjac_lis = {\n",
        "    'A': [('B', 1), ('C', 3), ('D', 7)],\n",
        "    'B': [('D', 5)],\n",
        "    'C': [('D', 12)]\n",
        "}\n",
        "\n",
        "graph1 = Graph(adjac_lis)\n",
        "graph1.a_star_algorithm('A', 'D')\n"
      ]
    }
  ]
}