{
  "nbformat": 4,
  "nbformat_minor": 0,
  "metadata": {
    "colab": {
      "provenance": []
    },
    "kernelspec": {
      "name": "python3",
      "display_name": "Python 3"
    },
    "language_info": {
      "name": "python"
    }
  },
  "cells": [
    {
      "cell_type": "code",
      "execution_count": null,
      "metadata": {
        "colab": {
          "base_uri": "https://localhost:8080/"
        },
        "id": "YNhvIXU0rc8B",
        "outputId": "27dc7dbb-b08d-4524-cb74-6c21b5feb49e"
      },
      "outputs": [
        {
          "output_type": "stream",
          "name": "stdout",
          "text": [
            "['male']\n",
            "['female']\n"
          ]
        }
      ],
      "source": [
        "from sklearn import tree\n",
        "#Using DecisionTree classifier for prediction\n",
        "clf = tree.DecisionTreeClassifier()\n",
        "#Here the array contains three values which are height,weight and shoe size\n",
        "X = [[181, 80, 91], [182, 90, 92], [183, 100, 92], [184, 200, 93], [185, 300, 94], [186, 400, 95],\n",
        "[187, 500, 96], [189, 600, 97], [190, 700, 98], [191, 800, 99], [192, 900, 100], [193, 1000, 101]]\n",
        "Y = ['male', 'male', 'female', 'male' , 'female', 'male', 'female' , 'male' , 'female', 'male' , 'female' ,\n",
        "'male' ]\n",
        "clf = clf.fit(X, Y)\n",
        "#Predicting on basis of given random values for each given feature\n",
        "predictionf = clf.predict([[181, 80, 91]])\n",
        "predictionm = clf.predict([[183, 100, 92]])\n",
        "#Printing final prediction\n",
        "print(predictionf)\n",
        "print(predictionm)"
      ]
    }
  ]
}