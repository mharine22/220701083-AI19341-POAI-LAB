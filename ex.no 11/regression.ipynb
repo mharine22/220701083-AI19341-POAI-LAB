{
  "nbformat": 4,
  "nbformat_minor": 0,
  "metadata": {
    "colab": {
      "provenance": []
    },
    "kernelspec": {
      "name": "python3",
      "display_name": "Python 3"
    },
    "language_info": {
      "name": "python"
    }
  },
  "cells": [
    {
      "cell_type": "code",
      "execution_count": null,
      "metadata": {
        "colab": {
          "base_uri": "https://localhost:8080/"
        },
        "id": "638sk7j2o7PK",
        "outputId": "b0bec139-46de-4353-8307-92a5c5541be1"
      },
      "outputs": [
        {
          "output_type": "stream",
          "name": "stdout",
          "text": [
            "R2 Score for Training Data = 0.9999612081889179\n",
            "R2 Score for Test Data = 0.9681534224541329\n"
          ]
        },
        {
          "output_type": "stream",
          "name": "stderr",
          "text": [
            "/usr/local/lib/python3.10/dist-packages/sklearn/neural_network/_multilayer_perceptron.py:690: ConvergenceWarning: Stochastic Optimizer: Maximum iterations (1000) reached and the optimization hasn't converged yet.\n",
            "  warnings.warn(\n"
          ]
        }
      ],
      "source": [
        "from sklearn.neural_network import MLPRegressor\n",
        "from sklearn.model_selection import train_test_split\n",
        "from sklearn.datasets import make_regression\n",
        "import numpy as np\n",
        "import matplotlib.pyplot as plt\n",
        "import seaborn as sns\n",
        "%matplotlib inline\n",
        "X, y = make_regression(n_samples=1000, noise=0.05, n_features=100)\n",
        "X.shape, y.shape = ((1000, 100), (1000,))\n",
        "X_train, X_test, y_train, y_test = train_test_split(X, y, test_size=0.2, shuffle=True, random_state\n",
        "=42)\n",
        "clf = MLPRegressor(max_iter=1000)\n",
        "clf.fit(X_train, y_train)\n",
        "print(f\"R2 Score for Training Data = {clf.score(X_train, y_train)}\")\n",
        "print(f\"R2 Score for Test Data = {clf.score(X_test, y_test)}\")"
      ]
    }
  ]
}